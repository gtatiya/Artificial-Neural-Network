{
 "cells": [
  {
   "cell_type": "raw",
   "id": "b5dc1f8f",
   "metadata": {},
   "source": [
    "https://lightning.ai/docs/pytorch/stable/common/evaluation_basic.html"
   ]
  },
  {
   "cell_type": "code",
   "execution_count": 1,
   "id": "8c024b86",
   "metadata": {},
   "outputs": [],
   "source": [
    "import os\n",
    "import torch\n",
    "import torch.utils.data as data\n",
    "from torchvision import datasets\n",
    "import torchvision.transforms as transforms\n",
    "from torch import nn\n",
    "import torch.nn.functional as F\n",
    "from torch.utils.data import DataLoader\n",
    "\n",
    "import lightning.pytorch as pl\n",
    "from lightning.pytorch.callbacks.early_stopping import EarlyStopping\n"
   ]
  },
  {
   "cell_type": "code",
   "execution_count": 2,
   "id": "427e0911",
   "metadata": {},
   "outputs": [
    {
     "name": "stdout",
     "output_type": "stream",
     "text": [
      "DATASETS_PATH:  ..\\..\\datasets\n"
     ]
    }
   ],
   "source": [
    "# Load data sets\n",
    "transform = transforms.ToTensor()\n",
    "\n",
    "DATASETS_PATH = os.path.join(\"..\", \"..\", \"datasets\")\n",
    "print('DATASETS_PATH: ', DATASETS_PATH)\n",
    "\n",
    "train_set = datasets.MNIST(root=DATASETS_PATH, download=True, train=True, transform=transform)\n",
    "test_set = datasets.MNIST(root=DATASETS_PATH, download=True, train=False, transform=transform)\n",
    "\n",
    "# use 20% of training data for validation\n",
    "train_set_size = int(len(train_set) * 0.8)\n",
    "valid_set_size = len(train_set) - train_set_size\n",
    "\n",
    "# split the train set into two\n",
    "seed = torch.Generator().manual_seed(42)\n",
    "train_set, valid_set = data.random_split(train_set, [train_set_size, valid_set_size], generator=seed)\n"
   ]
  },
  {
   "cell_type": "code",
   "execution_count": 3,
   "id": "62b35945",
   "metadata": {},
   "outputs": [],
   "source": [
    "class Encoder(nn.Module):\n",
    "    def __init__(self):\n",
    "        super().__init__()\n",
    "        self.l1 = nn.Sequential(nn.Linear(28 * 28, 64), nn.ReLU(), nn.Linear(64, 3))\n",
    "\n",
    "    def forward(self, x):\n",
    "        return self.l1(x)\n",
    "\n",
    "class Decoder(nn.Module):\n",
    "    def __init__(self):\n",
    "        super().__init__()\n",
    "        self.l1 = nn.Sequential(nn.Linear(3, 64), nn.ReLU(), nn.Linear(64, 28 * 28))\n",
    "\n",
    "    def forward(self, x):\n",
    "        return self.l1(x)"
   ]
  },
  {
   "cell_type": "code",
   "execution_count": 4,
   "id": "af57873c",
   "metadata": {},
   "outputs": [],
   "source": [
    "class LitAutoEncoder(pl.LightningModule):\n",
    "    def __init__(self, encoder, decoder):\n",
    "        super().__init__()\n",
    "        self.encoder = encoder\n",
    "        self.decoder = decoder\n",
    "        self.save_hyperparameters()\n",
    "\n",
    "    def training_step(self, batch, batch_idx):\n",
    "        # training_step defines the train loop.\n",
    "        x, y = batch\n",
    "        x = x.view(x.size(0), -1)\n",
    "        z = self.encoder(x)\n",
    "        x_hat = self.decoder(z)\n",
    "        loss = F.mse_loss(x_hat, x)\n",
    "        return loss\n",
    "    \n",
    "    def test_step(self, batch, batch_idx):\n",
    "        # this is the test loop\n",
    "        x, y = batch\n",
    "        x = x.view(x.size(0), -1)\n",
    "        z = self.encoder(x)\n",
    "        x_hat = self.decoder(z)\n",
    "        test_loss = F.mse_loss(x_hat, x)\n",
    "        self.log(\"test_loss\", test_loss)\n",
    "    \n",
    "    def validation_step(self, batch, batch_idx):\n",
    "        # this is the validation loop\n",
    "        x, y = batch\n",
    "        x = x.view(x.size(0), -1)\n",
    "        z = self.encoder(x)\n",
    "        x_hat = self.decoder(z)\n",
    "        val_loss = F.mse_loss(x_hat, x)\n",
    "        self.log(\"val_loss\", val_loss)\n",
    "        return {\"val_loss\": val_loss}\n",
    "\n",
    "    def configure_optimizers(self):\n",
    "        optimizer = torch.optim.Adam(self.parameters(), lr=1e-3)\n",
    "        return optimizer\n",
    "    \n",
    "    def forward(self, x):\n",
    "#         x = torch.Tensor(x)\n",
    "#         x = [torch.Tensor(x_) for x_ in x]\n",
    "        \n",
    "        x = x.view(x.size(0), -1)\n",
    "        z = self.encoder(x)\n",
    "        x_hat = self.decoder(z)\n",
    "        return x_hat\n",
    "    \n",
    "    def predict_step(self, batch, batch_idx, dataloader_idx=0):\n",
    "        for b in batch:\n",
    "            return self(b)"
   ]
  },
  {
   "cell_type": "code",
   "execution_count": 5,
   "id": "850c4ac1",
   "metadata": {
    "scrolled": true
   },
   "outputs": [
    {
     "name": "stderr",
     "output_type": "stream",
     "text": [
      "C:\\Users\\GyanT\\miniconda3\\envs\\py3_10\\lib\\site-packages\\lightning\\pytorch\\utilities\\parsing.py:196: UserWarning: Attribute 'encoder' is an instance of `nn.Module` and is already saved during checkpointing. It is recommended to ignore them using `self.save_hyperparameters(ignore=['encoder'])`.\n",
      "  rank_zero_warn(\n",
      "C:\\Users\\GyanT\\miniconda3\\envs\\py3_10\\lib\\site-packages\\lightning\\pytorch\\utilities\\parsing.py:196: UserWarning: Attribute 'decoder' is an instance of `nn.Module` and is already saved during checkpointing. It is recommended to ignore them using `self.save_hyperparameters(ignore=['decoder'])`.\n",
      "  rank_zero_warn(\n",
      "GPU available: True (cuda), used: True\n",
      "TPU available: False, using: 0 TPU cores\n",
      "IPU available: False, using: 0 IPUs\n",
      "HPU available: False, using: 0 HPUs\n"
     ]
    },
    {
     "name": "stdout",
     "output_type": "stream",
     "text": [
      "trainer.default_root_dir:  C:\\Users\\GyanT\\Documents\\GitHub\\Artificial-Neural-Network\\PyTorchLightning\n"
     ]
    },
    {
     "name": "stderr",
     "output_type": "stream",
     "text": [
      "C:\\Users\\GyanT\\miniconda3\\envs\\py3_10\\lib\\site-packages\\lightning\\pytorch\\trainer\\configuration_validator.py:70: PossibleUserWarning: You defined a `validation_step` but have no `val_dataloader`. Skipping val loop.\n",
      "  rank_zero_warn(\n",
      "Missing logger folder: C:\\Users\\GyanT\\Documents\\GitHub\\Artificial-Neural-Network\\PyTorchLightning\\lightning_logs\n",
      "LOCAL_RANK: 0 - CUDA_VISIBLE_DEVICES: [0]\n",
      "\n",
      "  | Name    | Type    | Params\n",
      "------------------------------------\n",
      "0 | encoder | Encoder | 50.4 K\n",
      "1 | decoder | Decoder | 51.2 K\n",
      "------------------------------------\n",
      "101 K     Trainable params\n",
      "0         Non-trainable params\n",
      "101 K     Total params\n",
      "0.407     Total estimated model params size (MB)\n",
      "C:\\Users\\GyanT\\miniconda3\\envs\\py3_10\\lib\\site-packages\\lightning\\pytorch\\trainer\\connectors\\data_connector.py:432: PossibleUserWarning: The dataloader, train_dataloader, does not have many workers which may be a bottleneck. Consider increasing the value of the `num_workers` argument` (try 8 which is the number of cpus on this machine) in the `DataLoader` init to improve performance.\n",
      "  rank_zero_warn(\n"
     ]
    },
    {
     "data": {
      "application/vnd.jupyter.widget-view+json": {
       "model_id": "dc68cc5eb8a54f5fbd5ad02053ef3871",
       "version_major": 2,
       "version_minor": 0
      },
      "text/plain": [
       "Training: 0it [00:00, ?it/s]"
      ]
     },
     "metadata": {},
     "output_type": "display_data"
    },
    {
     "name": "stderr",
     "output_type": "stream",
     "text": [
      "`Trainer.fit` stopped: `max_epochs=1` reached.\n",
      "FIT Profiler Report\n",
      "\n",
      "---------------------------------------------------------------------------------------------------------------------------------------------------------------------------------------------------------------------------------------------------------------------------\n",
      "|  Action                                                                                                                                                        \t|  Mean duration (s)\t|  Num calls      \t|  Total time (s) \t|  Percentage %   \t|\n",
      "---------------------------------------------------------------------------------------------------------------------------------------------------------------------------------------------------------------------------------------------------------------------------\n",
      "|  Total                                                                                                                                                         \t|  -              \t|  3643           \t|  12.281         \t|  100 %          \t|\n",
      "---------------------------------------------------------------------------------------------------------------------------------------------------------------------------------------------------------------------------------------------------------------------------\n",
      "|  run_training_epoch                                                                                                                                            \t|  4.125          \t|  1              \t|  4.125          \t|  33.588         \t|\n",
      "|  [LightningModule]LitAutoEncoder.optimizer_step                                                                                                                \t|  0.0308         \t|  100            \t|  3.08           \t|  25.079         \t|\n",
      "|  run_training_batch                                                                                                                                            \t|  0.0308         \t|  100            \t|  3.08           \t|  25.079         \t|\n",
      "|  [Strategy]SingleDeviceStrategy.training_step                                                                                                                  \t|  0.02611        \t|  100            \t|  2.611          \t|  21.26          \t|\n",
      "|  [Callback]TQDMProgressBar.on_train_batch_end                                                                                                                  \t|  0.00547        \t|  100            \t|  0.547          \t|  4.454          \t|\n",
      "|  [Callback]ModelCheckpoint{'monitor': None, 'mode': 'min', 'every_n_train_steps': 0, 'every_n_epochs': 1, 'train_time_interval': None}.on_train_epoch_end      \t|  0.531          \t|  1              \t|  0.531          \t|  4.3238         \t|\n",
      "|  [_TrainingEpochLoop].train_dataloader_next                                                                                                                    \t|  0.00249        \t|  100            \t|  0.249          \t|  2.0275         \t|\n",
      "|  [Strategy]SingleDeviceStrategy.backward                                                                                                                       \t|  0.00236        \t|  100            \t|  0.236          \t|  1.9217         \t|\n",
      "|  [Callback]TQDMProgressBar.on_train_start                                                                                                                      \t|  0.047          \t|  1              \t|  0.047          \t|  0.3827         \t|\n",
      "|  [LightningModule]LitAutoEncoder.transfer_batch_to_device                                                                                                      \t|  0.00047        \t|  100            \t|  0.047          \t|  0.3827         \t|\n",
      "|  [Strategy]SingleDeviceStrategy.batch_to_device                                                                                                                \t|  0.00047        \t|  100            \t|  0.047          \t|  0.3827         \t|\n",
      "|  [LightningModule]LitAutoEncoder.optimizer_zero_grad                                                                                                           \t|  0.0003         \t|  100            \t|  0.03           \t|  0.24428        \t|\n",
      "|  [Callback]ModelSummary.on_fit_start                                                                                                                           \t|  0.016          \t|  1              \t|  0.016          \t|  0.13028        \t|\n",
      "|  [Callback]ModelCheckpoint{'monitor': None, 'mode': 'min', 'every_n_train_steps': 0, 'every_n_epochs': 1, 'train_time_interval': None}.on_train_batch_end      \t|  0.00016        \t|  100            \t|  0.016          \t|  0.13028        \t|\n",
      "|  [LightningModule]LitAutoEncoder.configure_gradient_clipping                                                                                                   \t|  0.00016        \t|  100            \t|  0.016          \t|  0.13028        \t|\n",
      "|  [Callback]TQDMProgressBar.on_train_epoch_end                                                                                                                  \t|  0.015          \t|  1              \t|  0.015          \t|  0.12214        \t|\n",
      "|  [LightningModule]LitAutoEncoder.configure_callbacks                                                                                                           \t|  0.0            \t|  1              \t|  0.0            \t|  0.0            \t|\n",
      "|  [LightningModule]LitAutoEncoder.prepare_data                                                                                                                  \t|  0.0            \t|  1              \t|  0.0            \t|  0.0            \t|\n",
      "|  [Callback]TQDMProgressBar.setup                                                                                                                               \t|  0.0            \t|  1              \t|  0.0            \t|  0.0            \t|\n",
      "|  [Callback]ModelSummary.setup                                                                                                                                  \t|  0.0            \t|  1              \t|  0.0            \t|  0.0            \t|\n",
      "|  [Callback]ModelCheckpoint{'monitor': None, 'mode': 'min', 'every_n_train_steps': 0, 'every_n_epochs': 1, 'train_time_interval': None}.setup                   \t|  0.0            \t|  1              \t|  0.0            \t|  0.0            \t|\n",
      "|  [LightningModule]LitAutoEncoder.setup                                                                                                                         \t|  0.0            \t|  1              \t|  0.0            \t|  0.0            \t|\n",
      "|  [LightningModule]LitAutoEncoder.configure_sharded_model                                                                                                       \t|  0.0            \t|  1              \t|  0.0            \t|  0.0            \t|\n",
      "|  [LightningModule]LitAutoEncoder.configure_optimizers                                                                                                          \t|  0.0            \t|  1              \t|  0.0            \t|  0.0            \t|\n",
      "|  [Callback]TQDMProgressBar.on_fit_start                                                                                                                        \t|  0.0            \t|  1              \t|  0.0            \t|  0.0            \t|\n",
      "|  [Callback]ModelCheckpoint{'monitor': None, 'mode': 'min', 'every_n_train_steps': 0, 'every_n_epochs': 1, 'train_time_interval': None}.on_fit_start            \t|  0.0            \t|  1              \t|  0.0            \t|  0.0            \t|\n",
      "|  [LightningModule]LitAutoEncoder.on_fit_start                                                                                                                  \t|  0.0            \t|  1              \t|  0.0            \t|  0.0            \t|\n",
      "|  [Callback]ModelSummary.on_train_start                                                                                                                         \t|  0.0            \t|  1              \t|  0.0            \t|  0.0            \t|\n",
      "|  [Callback]ModelCheckpoint{'monitor': None, 'mode': 'min', 'every_n_train_steps': 0, 'every_n_epochs': 1, 'train_time_interval': None}.on_train_start          \t|  0.0            \t|  1              \t|  0.0            \t|  0.0            \t|\n",
      "|  [LightningModule]LitAutoEncoder.on_train_start                                                                                                                \t|  0.0            \t|  1              \t|  0.0            \t|  0.0            \t|\n",
      "|  [Strategy]SingleDeviceStrategy.on_train_start                                                                                                                 \t|  0.0            \t|  1              \t|  0.0            \t|  0.0            \t|\n",
      "|  [Callback]TQDMProgressBar.on_train_epoch_start                                                                                                                \t|  0.0            \t|  1              \t|  0.0            \t|  0.0            \t|\n",
      "|  [Callback]ModelSummary.on_train_epoch_start                                                                                                                   \t|  0.0            \t|  1              \t|  0.0            \t|  0.0            \t|\n",
      "|  [Callback]ModelCheckpoint{'monitor': None, 'mode': 'min', 'every_n_train_steps': 0, 'every_n_epochs': 1, 'train_time_interval': None}.on_train_epoch_start    \t|  0.0            \t|  1              \t|  0.0            \t|  0.0            \t|\n",
      "|  [LightningModule]LitAutoEncoder.on_train_epoch_start                                                                                                          \t|  0.0            \t|  1              \t|  0.0            \t|  0.0            \t|\n",
      "|  [LightningModule]LitAutoEncoder.on_before_batch_transfer                                                                                                      \t|  0.0            \t|  100            \t|  0.0            \t|  0.0            \t|\n",
      "|  [LightningModule]LitAutoEncoder.on_after_batch_transfer                                                                                                       \t|  0.0            \t|  100            \t|  0.0            \t|  0.0            \t|\n",
      "|  [Callback]TQDMProgressBar.on_train_batch_start                                                                                                                \t|  0.0            \t|  100            \t|  0.0            \t|  0.0            \t|\n",
      "|  [Callback]ModelSummary.on_train_batch_start                                                                                                                   \t|  0.0            \t|  100            \t|  0.0            \t|  0.0            \t|\n",
      "|  [Callback]ModelCheckpoint{'monitor': None, 'mode': 'min', 'every_n_train_steps': 0, 'every_n_epochs': 1, 'train_time_interval': None}.on_train_batch_start    \t|  0.0            \t|  100            \t|  0.0            \t|  0.0            \t|\n",
      "|  [LightningModule]LitAutoEncoder.on_train_batch_start                                                                                                          \t|  0.0            \t|  100            \t|  0.0            \t|  0.0            \t|\n",
      "|  [Strategy]SingleDeviceStrategy.on_train_batch_start                                                                                                           \t|  0.0            \t|  100            \t|  0.0            \t|  0.0            \t|\n",
      "|  [Callback]TQDMProgressBar.on_before_zero_grad                                                                                                                 \t|  0.0            \t|  100            \t|  0.0            \t|  0.0            \t|\n",
      "|  [Callback]ModelSummary.on_before_zero_grad                                                                                                                    \t|  0.0            \t|  100            \t|  0.0            \t|  0.0            \t|\n",
      "|  [Callback]ModelCheckpoint{'monitor': None, 'mode': 'min', 'every_n_train_steps': 0, 'every_n_epochs': 1, 'train_time_interval': None}.on_before_zero_grad     \t|  0.0            \t|  100            \t|  0.0            \t|  0.0            \t|\n",
      "|  [LightningModule]LitAutoEncoder.on_before_zero_grad                                                                                                           \t|  0.0            \t|  100            \t|  0.0            \t|  0.0            \t|\n",
      "|  [Callback]TQDMProgressBar.on_before_backward                                                                                                                  \t|  0.0            \t|  100            \t|  0.0            \t|  0.0            \t|\n",
      "|  [Callback]ModelSummary.on_before_backward                                                                                                                     \t|  0.0            \t|  100            \t|  0.0            \t|  0.0            \t|\n",
      "|  [Callback]ModelCheckpoint{'monitor': None, 'mode': 'min', 'every_n_train_steps': 0, 'every_n_epochs': 1, 'train_time_interval': None}.on_before_backward      \t|  0.0            \t|  100            \t|  0.0            \t|  0.0            \t|\n",
      "|  [LightningModule]LitAutoEncoder.on_before_backward                                                                                                            \t|  0.0            \t|  100            \t|  0.0            \t|  0.0            \t|\n",
      "|  [Callback]TQDMProgressBar.on_after_backward                                                                                                                   \t|  0.0            \t|  100            \t|  0.0            \t|  0.0            \t|\n",
      "|  [Callback]ModelSummary.on_after_backward                                                                                                                      \t|  0.0            \t|  100            \t|  0.0            \t|  0.0            \t|\n",
      "|  [Callback]ModelCheckpoint{'monitor': None, 'mode': 'min', 'every_n_train_steps': 0, 'every_n_epochs': 1, 'train_time_interval': None}.on_after_backward       \t|  0.0            \t|  100            \t|  0.0            \t|  0.0            \t|\n",
      "|  [LightningModule]LitAutoEncoder.on_after_backward                                                                                                             \t|  0.0            \t|  100            \t|  0.0            \t|  0.0            \t|\n",
      "|  [Callback]TQDMProgressBar.on_before_optimizer_step                                                                                                            \t|  0.0            \t|  100            \t|  0.0            \t|  0.0            \t|\n",
      "|  [Callback]ModelSummary.on_before_optimizer_step                                                                                                               \t|  0.0            \t|  100            \t|  0.0            \t|  0.0            \t|\n",
      "|  [Callback]ModelCheckpoint{'monitor': None, 'mode': 'min', 'every_n_train_steps': 0, 'every_n_epochs': 1, 'train_time_interval': None}.on_before_optimizer_step\t|  0.0            \t|  100            \t|  0.0            \t|  0.0            \t|\n",
      "|  [LightningModule]LitAutoEncoder.on_before_optimizer_step                                                                                                      \t|  0.0            \t|  100            \t|  0.0            \t|  0.0            \t|\n",
      "|  [Callback]ModelSummary.on_train_batch_end                                                                                                                     \t|  0.0            \t|  100            \t|  0.0            \t|  0.0            \t|\n",
      "|  [LightningModule]LitAutoEncoder.on_train_batch_end                                                                                                            \t|  0.0            \t|  100            \t|  0.0            \t|  0.0            \t|\n",
      "|  [Callback]ModelSummary.on_train_epoch_end                                                                                                                     \t|  0.0            \t|  1              \t|  0.0            \t|  0.0            \t|\n",
      "|  [LightningModule]LitAutoEncoder.on_train_epoch_end                                                                                                            \t|  0.0            \t|  1              \t|  0.0            \t|  0.0            \t|\n",
      "|  [Callback]TQDMProgressBar.on_save_checkpoint                                                                                                                  \t|  0.0            \t|  1              \t|  0.0            \t|  0.0            \t|\n",
      "|  [Callback]ModelSummary.on_save_checkpoint                                                                                                                     \t|  0.0            \t|  1              \t|  0.0            \t|  0.0            \t|\n",
      "|  [Callback]ModelCheckpoint{'monitor': None, 'mode': 'min', 'every_n_train_steps': 0, 'every_n_epochs': 1, 'train_time_interval': None}.on_save_checkpoint      \t|  0.0            \t|  1              \t|  0.0            \t|  0.0            \t|\n",
      "|  [LightningModule]LitAutoEncoder.on_save_checkpoint                                                                                                            \t|  0.0            \t|  1              \t|  0.0            \t|  0.0            \t|\n",
      "|  [Callback]TQDMProgressBar.on_train_end                                                                                                                        \t|  0.0            \t|  1              \t|  0.0            \t|  0.0            \t|\n",
      "|  [Callback]ModelSummary.on_train_end                                                                                                                           \t|  0.0            \t|  1              \t|  0.0            \t|  0.0            \t|\n",
      "|  [Callback]ModelCheckpoint{'monitor': None, 'mode': 'min', 'every_n_train_steps': 0, 'every_n_epochs': 1, 'train_time_interval': None}.on_train_end            \t|  0.0            \t|  1              \t|  0.0            \t|  0.0            \t|\n",
      "|  [LightningModule]LitAutoEncoder.on_train_end                                                                                                                  \t|  0.0            \t|  1              \t|  0.0            \t|  0.0            \t|\n",
      "|  [Strategy]SingleDeviceStrategy.on_train_end                                                                                                                   \t|  0.0            \t|  1              \t|  0.0            \t|  0.0            \t|\n",
      "|  [Callback]TQDMProgressBar.on_fit_end                                                                                                                          \t|  0.0            \t|  1              \t|  0.0            \t|  0.0            \t|\n",
      "|  [Callback]ModelSummary.on_fit_end                                                                                                                             \t|  0.0            \t|  1              \t|  0.0            \t|  0.0            \t|\n",
      "|  [Callback]ModelCheckpoint{'monitor': None, 'mode': 'min', 'every_n_train_steps': 0, 'every_n_epochs': 1, 'train_time_interval': None}.on_fit_end              \t|  0.0            \t|  1              \t|  0.0            \t|  0.0            \t|\n",
      "|  [LightningModule]LitAutoEncoder.on_fit_end                                                                                                                    \t|  0.0            \t|  1              \t|  0.0            \t|  0.0            \t|\n",
      "|  [Callback]TQDMProgressBar.teardown                                                                                                                            \t|  0.0            \t|  1              \t|  0.0            \t|  0.0            \t|\n",
      "|  [Callback]ModelSummary.teardown                                                                                                                               \t|  0.0            \t|  1              \t|  0.0            \t|  0.0            \t|\n",
      "|  [Callback]ModelCheckpoint{'monitor': None, 'mode': 'min', 'every_n_train_steps': 0, 'every_n_epochs': 1, 'train_time_interval': None}.teardown                \t|  0.0            \t|  1              \t|  0.0            \t|  0.0            \t|\n",
      "|  [LightningModule]LitAutoEncoder.teardown                                                                                                                      \t|  0.0            \t|  1              \t|  0.0            \t|  0.0            \t|\n",
      "---------------------------------------------------------------------------------------------------------------------------------------------------------------------------------------------------------------------------------------------------------------------------\n",
      "\n"
     ]
    }
   ],
   "source": [
    "# model\n",
    "autoencoder = LitAutoEncoder(Encoder(), Decoder())\n",
    "\n",
    "# initialize the Trainer\n",
    "trainer = pl.Trainer(limit_train_batches=100, limit_test_batches=10, limit_val_batches=10,\n",
    "                     max_epochs=1, profiler=\"simple\")\n",
    "print('trainer.default_root_dir: ', trainer.default_root_dir)\n",
    "\n",
    "train_loader = DataLoader(train_set)\n",
    "valid_loader = DataLoader(valid_set)\n",
    "\n",
    "# train model\n",
    "trainer.fit(model=autoencoder, train_dataloaders=train_loader)\n"
   ]
  },
  {
   "cell_type": "code",
   "execution_count": 6,
   "id": "94d653c6",
   "metadata": {},
   "outputs": [
    {
     "name": "stderr",
     "output_type": "stream",
     "text": [
      "C:\\Users\\GyanT\\miniconda3\\envs\\py3_10\\lib\\site-packages\\lightning\\pytorch\\callbacks\\model_checkpoint.py:615: UserWarning: Checkpoint directory C:\\Users\\GyanT\\Documents\\GitHub\\Artificial-Neural-Network\\PyTorchLightning\\lightning_logs\\version_0\\checkpoints exists and is not empty.\n",
      "  rank_zero_warn(f\"Checkpoint directory {dirpath} exists and is not empty.\")\n",
      "LOCAL_RANK: 0 - CUDA_VISIBLE_DEVICES: [0]\n",
      "\n",
      "  | Name    | Type    | Params\n",
      "------------------------------------\n",
      "0 | encoder | Encoder | 50.4 K\n",
      "1 | decoder | Decoder | 51.2 K\n",
      "------------------------------------\n",
      "101 K     Trainable params\n",
      "0         Non-trainable params\n",
      "101 K     Total params\n",
      "0.407     Total estimated model params size (MB)\n"
     ]
    },
    {
     "data": {
      "application/vnd.jupyter.widget-view+json": {
       "model_id": "",
       "version_major": 2,
       "version_minor": 0
      },
      "text/plain": [
       "Sanity Checking: 0it [00:00, ?it/s]"
      ]
     },
     "metadata": {},
     "output_type": "display_data"
    },
    {
     "name": "stderr",
     "output_type": "stream",
     "text": [
      "C:\\Users\\GyanT\\miniconda3\\envs\\py3_10\\lib\\site-packages\\lightning\\pytorch\\trainer\\connectors\\data_connector.py:432: PossibleUserWarning: The dataloader, val_dataloader, does not have many workers which may be a bottleneck. Consider increasing the value of the `num_workers` argument` (try 8 which is the number of cpus on this machine) in the `DataLoader` init to improve performance.\n",
      "  rank_zero_warn(\n",
      "`Trainer.fit` stopped: `max_epochs=1` reached.\n",
      "FIT Profiler Report\n",
      "\n",
      "---------------------------------------------------------------------------------------------------------------------------------------------------------------------------------------------------------------------------------------------------------------------------\n",
      "|  Action                                                                                                                                                         \t|  Mean duration (s)\t|  Num calls      \t|  Total time (s) \t|  Percentage %   \t|\n",
      "---------------------------------------------------------------------------------------------------------------------------------------------------------------------------------------------------------------------------------------------------------------------------\n",
      "|  Total                                                                                                                                                          \t|  -              \t|  3718           \t|  12.718         \t|  100 %          \t|\n",
      "---------------------------------------------------------------------------------------------------------------------------------------------------------------------------------------------------------------------------------------------------------------------------\n",
      "|  run_training_epoch                                                                                                                                             \t|  4.125          \t|  1              \t|  4.125          \t|  32.434         \t|\n",
      "|  [LightningModule]LitAutoEncoder.optimizer_step                                                                                                                 \t|  0.0308         \t|  100            \t|  3.08           \t|  24.218         \t|\n",
      "|  run_training_batch                                                                                                                                             \t|  0.0308         \t|  100            \t|  3.08           \t|  24.218         \t|\n",
      "|  [Strategy]SingleDeviceStrategy.training_step                                                                                                                   \t|  0.02611        \t|  100            \t|  2.611          \t|  20.53          \t|\n",
      "|  [Callback]TQDMProgressBar.on_train_batch_end                                                                                                                   \t|  0.00547        \t|  100            \t|  0.547          \t|  4.301          \t|\n",
      "|  [Callback]ModelCheckpoint{'monitor': None, 'mode': 'min', 'every_n_train_steps': 0, 'every_n_epochs': 1, 'train_time_interval': None}.on_train_epoch_end       \t|  0.531          \t|  1              \t|  0.531          \t|  4.1752         \t|\n",
      "|  [_TrainingEpochLoop].train_dataloader_next                                                                                                                     \t|  0.00249        \t|  100            \t|  0.249          \t|  1.9579         \t|\n",
      "|  [Strategy]SingleDeviceStrategy.backward                                                                                                                        \t|  0.00236        \t|  100            \t|  0.236          \t|  1.8556         \t|\n",
      "|  [Callback]ModelSummary.on_fit_start                                                                                                                            \t|  0.0315         \t|  2              \t|  0.063          \t|  0.49536        \t|\n",
      "|  [Callback]TQDMProgressBar.on_train_start                                                                                                                       \t|  0.047          \t|  1              \t|  0.047          \t|  0.36955        \t|\n",
      "|  [LightningModule]LitAutoEncoder.transfer_batch_to_device                                                                                                       \t|  0.00046078     \t|  102            \t|  0.047          \t|  0.36955        \t|\n",
      "|  [Strategy]SingleDeviceStrategy.batch_to_device                                                                                                                 \t|  0.00046078     \t|  102            \t|  0.047          \t|  0.36955        \t|\n",
      "|  [Strategy]SingleDeviceStrategy.validation_step                                                                                                                 \t|  0.016          \t|  2              \t|  0.032          \t|  0.25161        \t|\n",
      "|  [Callback]ModelCheckpoint{'monitor': None, 'mode': 'min', 'every_n_train_steps': 0, 'every_n_epochs': 1, 'train_time_interval': None}.setup                    \t|  0.016          \t|  2              \t|  0.032          \t|  0.25161        \t|\n",
      "|  [Callback]TQDMProgressBar.on_sanity_check_start                                                                                                                \t|  0.032          \t|  1              \t|  0.032          \t|  0.25161        \t|\n",
      "|  [LightningModule]LitAutoEncoder.optimizer_zero_grad                                                                                                            \t|  0.0003         \t|  100            \t|  0.03           \t|  0.23589        \t|\n",
      "|  [Callback]ModelCheckpoint{'monitor': None, 'mode': 'min', 'every_n_train_steps': 0, 'every_n_epochs': 1, 'train_time_interval': None}.on_train_batch_end       \t|  0.00016        \t|  100            \t|  0.016          \t|  0.12581        \t|\n",
      "|  [LightningModule]LitAutoEncoder.configure_gradient_clipping                                                                                                    \t|  0.00016        \t|  100            \t|  0.016          \t|  0.12581        \t|\n",
      "|  [Callback]TQDMProgressBar.on_train_epoch_end                                                                                                                   \t|  0.015          \t|  1              \t|  0.015          \t|  0.11794        \t|\n",
      "|  [_EvaluationLoop].val_next                                                                                                                                     \t|  0.005          \t|  3              \t|  0.015          \t|  0.11794        \t|\n",
      "|  [LightningModule]LitAutoEncoder.configure_callbacks                                                                                                            \t|  0.0            \t|  2              \t|  0.0            \t|  0.0            \t|\n",
      "|  [LightningModule]LitAutoEncoder.prepare_data                                                                                                                   \t|  0.0            \t|  2              \t|  0.0            \t|  0.0            \t|\n",
      "|  [Callback]TQDMProgressBar.setup                                                                                                                                \t|  0.0            \t|  2              \t|  0.0            \t|  0.0            \t|\n",
      "|  [Callback]ModelSummary.setup                                                                                                                                   \t|  0.0            \t|  2              \t|  0.0            \t|  0.0            \t|\n",
      "|  [LightningModule]LitAutoEncoder.setup                                                                                                                          \t|  0.0            \t|  2              \t|  0.0            \t|  0.0            \t|\n",
      "|  [LightningModule]LitAutoEncoder.configure_sharded_model                                                                                                        \t|  0.0            \t|  2              \t|  0.0            \t|  0.0            \t|\n",
      "|  [LightningModule]LitAutoEncoder.configure_optimizers                                                                                                           \t|  0.0            \t|  2              \t|  0.0            \t|  0.0            \t|\n",
      "|  [Callback]TQDMProgressBar.on_fit_start                                                                                                                         \t|  0.0            \t|  2              \t|  0.0            \t|  0.0            \t|\n",
      "|  [Callback]ModelCheckpoint{'monitor': None, 'mode': 'min', 'every_n_train_steps': 0, 'every_n_epochs': 1, 'train_time_interval': None}.on_fit_start             \t|  0.0            \t|  2              \t|  0.0            \t|  0.0            \t|\n",
      "|  [LightningModule]LitAutoEncoder.on_fit_start                                                                                                                   \t|  0.0            \t|  2              \t|  0.0            \t|  0.0            \t|\n",
      "|  [Callback]ModelSummary.on_train_start                                                                                                                          \t|  0.0            \t|  1              \t|  0.0            \t|  0.0            \t|\n",
      "|  [Callback]ModelCheckpoint{'monitor': None, 'mode': 'min', 'every_n_train_steps': 0, 'every_n_epochs': 1, 'train_time_interval': None}.on_train_start           \t|  0.0            \t|  1              \t|  0.0            \t|  0.0            \t|\n",
      "|  [LightningModule]LitAutoEncoder.on_train_start                                                                                                                 \t|  0.0            \t|  1              \t|  0.0            \t|  0.0            \t|\n",
      "|  [Strategy]SingleDeviceStrategy.on_train_start                                                                                                                  \t|  0.0            \t|  1              \t|  0.0            \t|  0.0            \t|\n",
      "|  [Callback]TQDMProgressBar.on_train_epoch_start                                                                                                                 \t|  0.0            \t|  1              \t|  0.0            \t|  0.0            \t|\n",
      "|  [Callback]ModelSummary.on_train_epoch_start                                                                                                                    \t|  0.0            \t|  1              \t|  0.0            \t|  0.0            \t|\n",
      "|  [Callback]ModelCheckpoint{'monitor': None, 'mode': 'min', 'every_n_train_steps': 0, 'every_n_epochs': 1, 'train_time_interval': None}.on_train_epoch_start     \t|  0.0            \t|  1              \t|  0.0            \t|  0.0            \t|\n",
      "|  [LightningModule]LitAutoEncoder.on_train_epoch_start                                                                                                           \t|  0.0            \t|  1              \t|  0.0            \t|  0.0            \t|\n",
      "|  [LightningModule]LitAutoEncoder.on_before_batch_transfer                                                                                                       \t|  0.0            \t|  102            \t|  0.0            \t|  0.0            \t|\n",
      "|  [LightningModule]LitAutoEncoder.on_after_batch_transfer                                                                                                        \t|  0.0            \t|  102            \t|  0.0            \t|  0.0            \t|\n",
      "|  [Callback]TQDMProgressBar.on_train_batch_start                                                                                                                 \t|  0.0            \t|  100            \t|  0.0            \t|  0.0            \t|\n",
      "|  [Callback]ModelSummary.on_train_batch_start                                                                                                                    \t|  0.0            \t|  100            \t|  0.0            \t|  0.0            \t|\n",
      "|  [Callback]ModelCheckpoint{'monitor': None, 'mode': 'min', 'every_n_train_steps': 0, 'every_n_epochs': 1, 'train_time_interval': None}.on_train_batch_start     \t|  0.0            \t|  100            \t|  0.0            \t|  0.0            \t|\n",
      "|  [LightningModule]LitAutoEncoder.on_train_batch_start                                                                                                           \t|  0.0            \t|  100            \t|  0.0            \t|  0.0            \t|\n",
      "|  [Strategy]SingleDeviceStrategy.on_train_batch_start                                                                                                            \t|  0.0            \t|  100            \t|  0.0            \t|  0.0            \t|\n",
      "|  [Callback]TQDMProgressBar.on_before_zero_grad                                                                                                                  \t|  0.0            \t|  100            \t|  0.0            \t|  0.0            \t|\n",
      "|  [Callback]ModelSummary.on_before_zero_grad                                                                                                                     \t|  0.0            \t|  100            \t|  0.0            \t|  0.0            \t|\n",
      "|  [Callback]ModelCheckpoint{'monitor': None, 'mode': 'min', 'every_n_train_steps': 0, 'every_n_epochs': 1, 'train_time_interval': None}.on_before_zero_grad      \t|  0.0            \t|  100            \t|  0.0            \t|  0.0            \t|\n",
      "|  [LightningModule]LitAutoEncoder.on_before_zero_grad                                                                                                            \t|  0.0            \t|  100            \t|  0.0            \t|  0.0            \t|\n",
      "|  [Callback]TQDMProgressBar.on_before_backward                                                                                                                   \t|  0.0            \t|  100            \t|  0.0            \t|  0.0            \t|\n",
      "|  [Callback]ModelSummary.on_before_backward                                                                                                                      \t|  0.0            \t|  100            \t|  0.0            \t|  0.0            \t|\n",
      "|  [Callback]ModelCheckpoint{'monitor': None, 'mode': 'min', 'every_n_train_steps': 0, 'every_n_epochs': 1, 'train_time_interval': None}.on_before_backward       \t|  0.0            \t|  100            \t|  0.0            \t|  0.0            \t|\n",
      "|  [LightningModule]LitAutoEncoder.on_before_backward                                                                                                             \t|  0.0            \t|  100            \t|  0.0            \t|  0.0            \t|\n",
      "|  [Callback]TQDMProgressBar.on_after_backward                                                                                                                    \t|  0.0            \t|  100            \t|  0.0            \t|  0.0            \t|\n",
      "|  [Callback]ModelSummary.on_after_backward                                                                                                                       \t|  0.0            \t|  100            \t|  0.0            \t|  0.0            \t|\n",
      "|  [Callback]ModelCheckpoint{'monitor': None, 'mode': 'min', 'every_n_train_steps': 0, 'every_n_epochs': 1, 'train_time_interval': None}.on_after_backward        \t|  0.0            \t|  100            \t|  0.0            \t|  0.0            \t|\n",
      "|  [LightningModule]LitAutoEncoder.on_after_backward                                                                                                              \t|  0.0            \t|  100            \t|  0.0            \t|  0.0            \t|\n",
      "|  [Callback]TQDMProgressBar.on_before_optimizer_step                                                                                                             \t|  0.0            \t|  100            \t|  0.0            \t|  0.0            \t|\n",
      "|  [Callback]ModelSummary.on_before_optimizer_step                                                                                                                \t|  0.0            \t|  100            \t|  0.0            \t|  0.0            \t|\n",
      "|  [Callback]ModelCheckpoint{'monitor': None, 'mode': 'min', 'every_n_train_steps': 0, 'every_n_epochs': 1, 'train_time_interval': None}.on_before_optimizer_step \t|  0.0            \t|  100            \t|  0.0            \t|  0.0            \t|\n",
      "|  [LightningModule]LitAutoEncoder.on_before_optimizer_step                                                                                                       \t|  0.0            \t|  100            \t|  0.0            \t|  0.0            \t|\n",
      "|  [Callback]ModelSummary.on_train_batch_end                                                                                                                      \t|  0.0            \t|  100            \t|  0.0            \t|  0.0            \t|\n",
      "|  [LightningModule]LitAutoEncoder.on_train_batch_end                                                                                                             \t|  0.0            \t|  100            \t|  0.0            \t|  0.0            \t|\n",
      "|  [Callback]ModelSummary.on_train_epoch_end                                                                                                                      \t|  0.0            \t|  1              \t|  0.0            \t|  0.0            \t|\n",
      "|  [LightningModule]LitAutoEncoder.on_train_epoch_end                                                                                                             \t|  0.0            \t|  1              \t|  0.0            \t|  0.0            \t|\n",
      "|  [Callback]TQDMProgressBar.on_save_checkpoint                                                                                                                   \t|  0.0            \t|  1              \t|  0.0            \t|  0.0            \t|\n",
      "|  [Callback]ModelSummary.on_save_checkpoint                                                                                                                      \t|  0.0            \t|  1              \t|  0.0            \t|  0.0            \t|\n",
      "|  [Callback]ModelCheckpoint{'monitor': None, 'mode': 'min', 'every_n_train_steps': 0, 'every_n_epochs': 1, 'train_time_interval': None}.on_save_checkpoint       \t|  0.0            \t|  1              \t|  0.0            \t|  0.0            \t|\n",
      "|  [LightningModule]LitAutoEncoder.on_save_checkpoint                                                                                                             \t|  0.0            \t|  1              \t|  0.0            \t|  0.0            \t|\n",
      "|  [Callback]TQDMProgressBar.on_train_end                                                                                                                         \t|  0.0            \t|  1              \t|  0.0            \t|  0.0            \t|\n",
      "|  [Callback]ModelSummary.on_train_end                                                                                                                            \t|  0.0            \t|  1              \t|  0.0            \t|  0.0            \t|\n",
      "|  [Callback]ModelCheckpoint{'monitor': None, 'mode': 'min', 'every_n_train_steps': 0, 'every_n_epochs': 1, 'train_time_interval': None}.on_train_end             \t|  0.0            \t|  1              \t|  0.0            \t|  0.0            \t|\n",
      "|  [LightningModule]LitAutoEncoder.on_train_end                                                                                                                   \t|  0.0            \t|  1              \t|  0.0            \t|  0.0            \t|\n",
      "|  [Strategy]SingleDeviceStrategy.on_train_end                                                                                                                    \t|  0.0            \t|  1              \t|  0.0            \t|  0.0            \t|\n",
      "|  [Callback]TQDMProgressBar.on_fit_end                                                                                                                           \t|  0.0            \t|  2              \t|  0.0            \t|  0.0            \t|\n",
      "|  [Callback]ModelSummary.on_fit_end                                                                                                                              \t|  0.0            \t|  2              \t|  0.0            \t|  0.0            \t|\n",
      "|  [Callback]ModelCheckpoint{'monitor': None, 'mode': 'min', 'every_n_train_steps': 0, 'every_n_epochs': 1, 'train_time_interval': None}.on_fit_end               \t|  0.0            \t|  2              \t|  0.0            \t|  0.0            \t|\n",
      "|  [LightningModule]LitAutoEncoder.on_fit_end                                                                                                                     \t|  0.0            \t|  2              \t|  0.0            \t|  0.0            \t|\n",
      "|  [Callback]TQDMProgressBar.teardown                                                                                                                             \t|  0.0            \t|  2              \t|  0.0            \t|  0.0            \t|\n",
      "|  [Callback]ModelSummary.teardown                                                                                                                                \t|  0.0            \t|  2              \t|  0.0            \t|  0.0            \t|\n",
      "|  [Callback]ModelCheckpoint{'monitor': None, 'mode': 'min', 'every_n_train_steps': 0, 'every_n_epochs': 1, 'train_time_interval': None}.teardown                 \t|  0.0            \t|  2              \t|  0.0            \t|  0.0            \t|\n",
      "|  [LightningModule]LitAutoEncoder.teardown                                                                                                                       \t|  0.0            \t|  2              \t|  0.0            \t|  0.0            \t|\n",
      "|  [Callback]ModelSummary.on_sanity_check_start                                                                                                                   \t|  0.0            \t|  1              \t|  0.0            \t|  0.0            \t|\n",
      "|  [Callback]ModelCheckpoint{'monitor': None, 'mode': 'min', 'every_n_train_steps': 0, 'every_n_epochs': 1, 'train_time_interval': None}.on_sanity_check_start    \t|  0.0            \t|  1              \t|  0.0            \t|  0.0            \t|\n",
      "|  [LightningModule]LitAutoEncoder.on_validation_model_eval                                                                                                       \t|  0.0            \t|  1              \t|  0.0            \t|  0.0            \t|\n",
      "|  [Callback]TQDMProgressBar.on_validation_start                                                                                                                  \t|  0.0            \t|  1              \t|  0.0            \t|  0.0            \t|\n",
      "|  [Callback]ModelSummary.on_validation_start                                                                                                                     \t|  0.0            \t|  1              \t|  0.0            \t|  0.0            \t|\n",
      "|  [Callback]ModelCheckpoint{'monitor': None, 'mode': 'min', 'every_n_train_steps': 0, 'every_n_epochs': 1, 'train_time_interval': None}.on_validation_start      \t|  0.0            \t|  1              \t|  0.0            \t|  0.0            \t|\n",
      "|  [LightningModule]LitAutoEncoder.on_validation_start                                                                                                            \t|  0.0            \t|  1              \t|  0.0            \t|  0.0            \t|\n",
      "|  [Strategy]SingleDeviceStrategy.on_validation_start                                                                                                             \t|  0.0            \t|  1              \t|  0.0            \t|  0.0            \t|\n",
      "|  [Callback]TQDMProgressBar.on_validation_epoch_start                                                                                                            \t|  0.0            \t|  1              \t|  0.0            \t|  0.0            \t|\n",
      "|  [Callback]ModelSummary.on_validation_epoch_start                                                                                                               \t|  0.0            \t|  1              \t|  0.0            \t|  0.0            \t|\n",
      "|  [Callback]ModelCheckpoint{'monitor': None, 'mode': 'min', 'every_n_train_steps': 0, 'every_n_epochs': 1, 'train_time_interval': None}.on_validation_epoch_start\t|  0.0            \t|  1              \t|  0.0            \t|  0.0            \t|\n",
      "|  [LightningModule]LitAutoEncoder.on_validation_epoch_start                                                                                                      \t|  0.0            \t|  1              \t|  0.0            \t|  0.0            \t|\n",
      "|  [Callback]TQDMProgressBar.on_validation_batch_start                                                                                                            \t|  0.0            \t|  2              \t|  0.0            \t|  0.0            \t|\n",
      "|  [Callback]ModelSummary.on_validation_batch_start                                                                                                               \t|  0.0            \t|  2              \t|  0.0            \t|  0.0            \t|\n",
      "|  [Callback]ModelCheckpoint{'monitor': None, 'mode': 'min', 'every_n_train_steps': 0, 'every_n_epochs': 1, 'train_time_interval': None}.on_validation_batch_start\t|  0.0            \t|  2              \t|  0.0            \t|  0.0            \t|\n",
      "|  [LightningModule]LitAutoEncoder.on_validation_batch_start                                                                                                      \t|  0.0            \t|  2              \t|  0.0            \t|  0.0            \t|\n",
      "|  [Callback]TQDMProgressBar.on_validation_batch_end                                                                                                              \t|  0.0            \t|  2              \t|  0.0            \t|  0.0            \t|\n",
      "|  [Callback]ModelSummary.on_validation_batch_end                                                                                                                 \t|  0.0            \t|  2              \t|  0.0            \t|  0.0            \t|\n",
      "|  [Callback]ModelCheckpoint{'monitor': None, 'mode': 'min', 'every_n_train_steps': 0, 'every_n_epochs': 1, 'train_time_interval': None}.on_validation_batch_end  \t|  0.0            \t|  2              \t|  0.0            \t|  0.0            \t|\n",
      "|  [LightningModule]LitAutoEncoder.on_validation_batch_end                                                                                                        \t|  0.0            \t|  2              \t|  0.0            \t|  0.0            \t|\n",
      "|  [Callback]TQDMProgressBar.on_validation_epoch_end                                                                                                              \t|  0.0            \t|  1              \t|  0.0            \t|  0.0            \t|\n",
      "|  [Callback]ModelSummary.on_validation_epoch_end                                                                                                                 \t|  0.0            \t|  1              \t|  0.0            \t|  0.0            \t|\n",
      "|  [Callback]ModelCheckpoint{'monitor': None, 'mode': 'min', 'every_n_train_steps': 0, 'every_n_epochs': 1, 'train_time_interval': None}.on_validation_epoch_end  \t|  0.0            \t|  1              \t|  0.0            \t|  0.0            \t|\n",
      "|  [LightningModule]LitAutoEncoder.on_validation_epoch_end                                                                                                        \t|  0.0            \t|  1              \t|  0.0            \t|  0.0            \t|\n",
      "|  [Callback]TQDMProgressBar.on_validation_end                                                                                                                    \t|  0.0            \t|  1              \t|  0.0            \t|  0.0            \t|\n",
      "|  [Callback]ModelSummary.on_validation_end                                                                                                                       \t|  0.0            \t|  1              \t|  0.0            \t|  0.0            \t|\n",
      "|  [Callback]ModelCheckpoint{'monitor': None, 'mode': 'min', 'every_n_train_steps': 0, 'every_n_epochs': 1, 'train_time_interval': None}.on_validation_end        \t|  0.0            \t|  1              \t|  0.0            \t|  0.0            \t|\n",
      "|  [LightningModule]LitAutoEncoder.on_validation_end                                                                                                              \t|  0.0            \t|  1              \t|  0.0            \t|  0.0            \t|\n",
      "|  [Strategy]SingleDeviceStrategy.on_validation_end                                                                                                               \t|  0.0            \t|  1              \t|  0.0            \t|  0.0            \t|\n",
      "|  [LightningModule]LitAutoEncoder.on_validation_model_train                                                                                                      \t|  0.0            \t|  1              \t|  0.0            \t|  0.0            \t|\n",
      "|  [Callback]TQDMProgressBar.on_sanity_check_end                                                                                                                  \t|  0.0            \t|  1              \t|  0.0            \t|  0.0            \t|\n",
      "|  [Callback]ModelSummary.on_sanity_check_end                                                                                                                     \t|  0.0            \t|  1              \t|  0.0            \t|  0.0            \t|\n",
      "|  [Callback]ModelCheckpoint{'monitor': None, 'mode': 'min', 'every_n_train_steps': 0, 'every_n_epochs': 1, 'train_time_interval': None}.on_sanity_check_end      \t|  0.0            \t|  1              \t|  0.0            \t|  0.0            \t|\n",
      "---------------------------------------------------------------------------------------------------------------------------------------------------------------------------------------------------------------------------------------------------------------------------\n",
      "\n"
     ]
    }
   ],
   "source": [
    "# train with both splits\n",
    "trainer.fit(autoencoder, train_loader, valid_loader)\n"
   ]
  },
  {
   "cell_type": "code",
   "execution_count": 7,
   "id": "bf2c35a8",
   "metadata": {},
   "outputs": [
    {
     "name": "stderr",
     "output_type": "stream",
     "text": [
      "LOCAL_RANK: 0 - CUDA_VISIBLE_DEVICES: [0]\n",
      "C:\\Users\\GyanT\\miniconda3\\envs\\py3_10\\lib\\site-packages\\lightning\\pytorch\\trainer\\connectors\\data_connector.py:432: PossibleUserWarning: The dataloader, test_dataloader, does not have many workers which may be a bottleneck. Consider increasing the value of the `num_workers` argument` (try 8 which is the number of cpus on this machine) in the `DataLoader` init to improve performance.\n",
      "  rank_zero_warn(\n"
     ]
    },
    {
     "data": {
      "application/vnd.jupyter.widget-view+json": {
       "model_id": "0722b6a1aecf416d99b8855a14fee105",
       "version_major": 2,
       "version_minor": 0
      },
      "text/plain": [
       "Testing: 0it [00:00, ?it/s]"
      ]
     },
     "metadata": {},
     "output_type": "display_data"
    },
    {
     "data": {
      "text/html": [
       "<pre style=\"white-space:pre;overflow-x:auto;line-height:normal;font-family:Menlo,'DejaVu Sans Mono',consolas,'Courier New',monospace\">┏━━━━━━━━━━━━━━━━━━━━━━━━━━━┳━━━━━━━━━━━━━━━━━━━━━━━━━━━┓\n",
       "┃<span style=\"font-weight: bold\">        Test metric        </span>┃<span style=\"font-weight: bold\">       DataLoader 0        </span>┃\n",
       "┡━━━━━━━━━━━━━━━━━━━━━━━━━━━╇━━━━━━━━━━━━━━━━━━━━━━━━━━━┩\n",
       "│<span style=\"color: #008080; text-decoration-color: #008080\">         test_loss         </span>│<span style=\"color: #800080; text-decoration-color: #800080\">    0.06349547952413559    </span>│\n",
       "└───────────────────────────┴───────────────────────────┘\n",
       "</pre>\n"
      ],
      "text/plain": [
       "┏━━━━━━━━━━━━━━━━━━━━━━━━━━━┳━━━━━━━━━━━━━━━━━━━━━━━━━━━┓\n",
       "┃\u001b[1m \u001b[0m\u001b[1m       Test metric       \u001b[0m\u001b[1m \u001b[0m┃\u001b[1m \u001b[0m\u001b[1m      DataLoader 0       \u001b[0m\u001b[1m \u001b[0m┃\n",
       "┡━━━━━━━━━━━━━━━━━━━━━━━━━━━╇━━━━━━━━━━━━━━━━━━━━━━━━━━━┩\n",
       "│\u001b[36m \u001b[0m\u001b[36m        test_loss        \u001b[0m\u001b[36m \u001b[0m│\u001b[35m \u001b[0m\u001b[35m   0.06349547952413559   \u001b[0m\u001b[35m \u001b[0m│\n",
       "└───────────────────────────┴───────────────────────────┘\n"
      ]
     },
     "metadata": {},
     "output_type": "display_data"
    },
    {
     "name": "stderr",
     "output_type": "stream",
     "text": [
      "TEST Profiler Report\r\n",
      "\r\n",
      "---------------------------------------------------------------------------------------------------------------------------------------------------------------------------------------------------------------------------------------------------------------------------\r\n",
      "|  Action                                                                                                                                                         \t|  Mean duration (s)\t|  Num calls      \t|  Total time (s) \t|  Percentage %   \t|\r\n",
      "---------------------------------------------------------------------------------------------------------------------------------------------------------------------------------------------------------------------------------------------------------------------------\r\n",
      "|  Total                                                                                                                                                          \t|  -              \t|  3890           \t|  13.0           \t|  100 %          \t|\r\n",
      "---------------------------------------------------------------------------------------------------------------------------------------------------------------------------------------------------------------------------------------------------------------------------\r\n",
      "|  run_training_epoch                                                                                                                                             \t|  4.125          \t|  1              \t|  4.125          \t|  31.731         \t|\r\n",
      "|  [LightningModule]LitAutoEncoder.optimizer_step                                                                                                                 \t|  0.0308         \t|  100            \t|  3.08           \t|  23.692         \t|\r\n",
      "|  run_training_batch                                                                                                                                             \t|  0.0308         \t|  100            \t|  3.08           \t|  23.692         \t|\r\n",
      "|  [Strategy]SingleDeviceStrategy.training_step                                                                                                                   \t|  0.02611        \t|  100            \t|  2.611          \t|  20.085         \t|\r\n",
      "|  [Callback]TQDMProgressBar.on_train_batch_end                                                                                                                   \t|  0.00547        \t|  100            \t|  0.547          \t|  4.2077         \t|\r\n",
      "|  [Callback]ModelCheckpoint{'monitor': None, 'mode': 'min', 'every_n_train_steps': 0, 'every_n_epochs': 1, 'train_time_interval': None}.on_train_epoch_end       \t|  0.531          \t|  1              \t|  0.531          \t|  4.0846         \t|\r\n",
      "|  [_TrainingEpochLoop].train_dataloader_next                                                                                                                     \t|  0.00249        \t|  100            \t|  0.249          \t|  1.9154         \t|\r\n",
      "|  [Strategy]SingleDeviceStrategy.backward                                                                                                                        \t|  0.00236        \t|  100            \t|  0.236          \t|  1.8154         \t|\r\n",
      "|  [Callback]ModelSummary.on_fit_start                                                                                                                            \t|  0.0315         \t|  2              \t|  0.063          \t|  0.48462        \t|\r\n",
      "|  [Strategy]SingleDeviceStrategy.test_step                                                                                                                       \t|  0.0063         \t|  10             \t|  0.063          \t|  0.48462        \t|\r\n",
      "|  [Callback]TQDMProgressBar.on_train_start                                                                                                                       \t|  0.047          \t|  1              \t|  0.047          \t|  0.36154        \t|\r\n",
      "|  [LightningModule]LitAutoEncoder.transfer_batch_to_device                                                                                                       \t|  0.00041964     \t|  112            \t|  0.047          \t|  0.36154        \t|\r\n",
      "|  [Strategy]SingleDeviceStrategy.batch_to_device                                                                                                                 \t|  0.00041964     \t|  112            \t|  0.047          \t|  0.36154        \t|\r\n",
      "|  [Strategy]SingleDeviceStrategy.validation_step                                                                                                                 \t|  0.016          \t|  2              \t|  0.032          \t|  0.24615        \t|\r\n",
      "|  [Callback]ModelCheckpoint{'monitor': None, 'mode': 'min', 'every_n_train_steps': 0, 'every_n_epochs': 1, 'train_time_interval': None}.setup                    \t|  0.010667       \t|  3              \t|  0.032          \t|  0.24615        \t|\r\n",
      "|  [Callback]TQDMProgressBar.on_sanity_check_start                                                                                                                \t|  0.032          \t|  1              \t|  0.032          \t|  0.24615        \t|\r\n",
      "|  [_EvaluationLoop].test_next                                                                                                                                    \t|  0.0029091      \t|  11             \t|  0.032          \t|  0.24615        \t|\r\n",
      "|  [LightningModule]LitAutoEncoder.optimizer_zero_grad                                                                                                            \t|  0.0003         \t|  100            \t|  0.03           \t|  0.23077        \t|\r\n",
      "|  [Callback]ModelCheckpoint{'monitor': None, 'mode': 'min', 'every_n_train_steps': 0, 'every_n_epochs': 1, 'train_time_interval': None}.on_train_batch_end       \t|  0.00016        \t|  100            \t|  0.016          \t|  0.12308        \t|\r\n",
      "|  [Callback]TQDMProgressBar.on_test_start                                                                                                                        \t|  0.016          \t|  1              \t|  0.016          \t|  0.12308        \t|\r\n",
      "|  [LightningModule]LitAutoEncoder.configure_gradient_clipping                                                                                                    \t|  0.00016        \t|  100            \t|  0.016          \t|  0.12308        \t|\r\n",
      "|  [Callback]TQDMProgressBar.on_train_epoch_end                                                                                                                   \t|  0.015          \t|  1              \t|  0.015          \t|  0.11538        \t|\r\n",
      "|  [_EvaluationLoop].val_next                                                                                                                                     \t|  0.005          \t|  3              \t|  0.015          \t|  0.11538        \t|\r\n",
      "|  [Callback]TQDMProgressBar.on_test_batch_end                                                                                                                    \t|  0.0015         \t|  10             \t|  0.015          \t|  0.11538        \t|\r\n",
      "|  [LightningModule]LitAutoEncoder.configure_callbacks                                                                                                            \t|  0.0            \t|  3              \t|  0.0            \t|  0.0            \t|\r\n",
      "|  [LightningModule]LitAutoEncoder.prepare_data                                                                                                                   \t|  0.0            \t|  3              \t|  0.0            \t|  0.0            \t|\r\n",
      "|  [Callback]TQDMProgressBar.setup                                                                                                                                \t|  0.0            \t|  3              \t|  0.0            \t|  0.0            \t|\r\n",
      "|  [Callback]ModelSummary.setup                                                                                                                                   \t|  0.0            \t|  3              \t|  0.0            \t|  0.0            \t|\r\n",
      "|  [LightningModule]LitAutoEncoder.setup                                                                                                                          \t|  0.0            \t|  3              \t|  0.0            \t|  0.0            \t|\r\n",
      "|  [LightningModule]LitAutoEncoder.configure_sharded_model                                                                                                        \t|  0.0            \t|  3              \t|  0.0            \t|  0.0            \t|\r\n",
      "|  [LightningModule]LitAutoEncoder.configure_optimizers                                                                                                           \t|  0.0            \t|  2              \t|  0.0            \t|  0.0            \t|\r\n",
      "|  [Callback]TQDMProgressBar.on_fit_start                                                                                                                         \t|  0.0            \t|  2              \t|  0.0            \t|  0.0            \t|\r\n",
      "|  [Callback]ModelCheckpoint{'monitor': None, 'mode': 'min', 'every_n_train_steps': 0, 'every_n_epochs': 1, 'train_time_interval': None}.on_fit_start             \t|  0.0            \t|  2              \t|  0.0            \t|  0.0            \t|\r\n",
      "|  [LightningModule]LitAutoEncoder.on_fit_start                                                                                                                   \t|  0.0            \t|  2              \t|  0.0            \t|  0.0            \t|\r\n",
      "|  [Callback]ModelSummary.on_train_start                                                                                                                          \t|  0.0            \t|  1              \t|  0.0            \t|  0.0            \t|\r\n",
      "|  [Callback]ModelCheckpoint{'monitor': None, 'mode': 'min', 'every_n_train_steps': 0, 'every_n_epochs': 1, 'train_time_interval': None}.on_train_start           \t|  0.0            \t|  1              \t|  0.0            \t|  0.0            \t|\r\n",
      "|  [LightningModule]LitAutoEncoder.on_train_start                                                                                                                 \t|  0.0            \t|  1              \t|  0.0            \t|  0.0            \t|\r\n",
      "|  [Strategy]SingleDeviceStrategy.on_train_start                                                                                                                  \t|  0.0            \t|  1              \t|  0.0            \t|  0.0            \t|\r\n",
      "|  [Callback]TQDMProgressBar.on_train_epoch_start                                                                                                                 \t|  0.0            \t|  1              \t|  0.0            \t|  0.0            \t|\r\n",
      "|  [Callback]ModelSummary.on_train_epoch_start                                                                                                                    \t|  0.0            \t|  1              \t|  0.0            \t|  0.0            \t|\r\n",
      "|  [Callback]ModelCheckpoint{'monitor': None, 'mode': 'min', 'every_n_train_steps': 0, 'every_n_epochs': 1, 'train_time_interval': None}.on_train_epoch_start     \t|  0.0            \t|  1              \t|  0.0            \t|  0.0            \t|\r\n",
      "|  [LightningModule]LitAutoEncoder.on_train_epoch_start                                                                                                           \t|  0.0            \t|  1              \t|  0.0            \t|  0.0            \t|\r\n",
      "|  [LightningModule]LitAutoEncoder.on_before_batch_transfer                                                                                                       \t|  0.0            \t|  112            \t|  0.0            \t|  0.0            \t|\r\n",
      "|  [LightningModule]LitAutoEncoder.on_after_batch_transfer                                                                                                        \t|  0.0            \t|  112            \t|  0.0            \t|  0.0            \t|\r\n",
      "|  [Callback]TQDMProgressBar.on_train_batch_start                                                                                                                 \t|  0.0            \t|  100            \t|  0.0            \t|  0.0            \t|\r\n",
      "|  [Callback]ModelSummary.on_train_batch_start                                                                                                                    \t|  0.0            \t|  100            \t|  0.0            \t|  0.0            \t|\r\n",
      "|  [Callback]ModelCheckpoint{'monitor': None, 'mode': 'min', 'every_n_train_steps': 0, 'every_n_epochs': 1, 'train_time_interval': None}.on_train_batch_start     \t|  0.0            \t|  100            \t|  0.0            \t|  0.0            \t|\r\n",
      "|  [LightningModule]LitAutoEncoder.on_train_batch_start                                                                                                           \t|  0.0            \t|  100            \t|  0.0            \t|  0.0            \t|\r\n",
      "|  [Strategy]SingleDeviceStrategy.on_train_batch_start                                                                                                            \t|  0.0            \t|  100            \t|  0.0            \t|  0.0            \t|\r\n",
      "|  [Callback]TQDMProgressBar.on_before_zero_grad                                                                                                                  \t|  0.0            \t|  100            \t|  0.0            \t|  0.0            \t|\r\n",
      "|  [Callback]ModelSummary.on_before_zero_grad                                                                                                                     \t|  0.0            \t|  100            \t|  0.0            \t|  0.0            \t|\r\n",
      "|  [Callback]ModelCheckpoint{'monitor': None, 'mode': 'min', 'every_n_train_steps': 0, 'every_n_epochs': 1, 'train_time_interval': None}.on_before_zero_grad      \t|  0.0            \t|  100            \t|  0.0            \t|  0.0            \t|\r\n",
      "|  [LightningModule]LitAutoEncoder.on_before_zero_grad                                                                                                            \t|  0.0            \t|  100            \t|  0.0            \t|  0.0            \t|\r\n",
      "|  [Callback]TQDMProgressBar.on_before_backward                                                                                                                   \t|  0.0            \t|  100            \t|  0.0            \t|  0.0            \t|\r\n",
      "|  [Callback]ModelSummary.on_before_backward                                                                                                                      \t|  0.0            \t|  100            \t|  0.0            \t|  0.0            \t|\r\n",
      "|  [Callback]ModelCheckpoint{'monitor': None, 'mode': 'min', 'every_n_train_steps': 0, 'every_n_epochs': 1, 'train_time_interval': None}.on_before_backward       \t|  0.0            \t|  100            \t|  0.0            \t|  0.0            \t|\r\n",
      "|  [LightningModule]LitAutoEncoder.on_before_backward                                                                                                             \t|  0.0            \t|  100            \t|  0.0            \t|  0.0            \t|\r\n",
      "|  [Callback]TQDMProgressBar.on_after_backward                                                                                                                    \t|  0.0            \t|  100            \t|  0.0            \t|  0.0            \t|\r\n",
      "|  [Callback]ModelSummary.on_after_backward                                                                                                                       \t|  0.0            \t|  100            \t|  0.0            \t|  0.0            \t|\r\n",
      "|  [Callback]ModelCheckpoint{'monitor': None, 'mode': 'min', 'every_n_train_steps': 0, 'every_n_epochs': 1, 'train_time_interval': None}.on_after_backward        \t|  0.0            \t|  100            \t|  0.0            \t|  0.0            \t|\r\n",
      "|  [LightningModule]LitAutoEncoder.on_after_backward                                                                                                              \t|  0.0            \t|  100            \t|  0.0            \t|  0.0            \t|\r\n",
      "|  [Callback]TQDMProgressBar.on_before_optimizer_step                                                                                                             \t|  0.0            \t|  100            \t|  0.0            \t|  0.0            \t|\r\n",
      "|  [Callback]ModelSummary.on_before_optimizer_step                                                                                                                \t|  0.0            \t|  100            \t|  0.0            \t|  0.0            \t|\r\n",
      "|  [Callback]ModelCheckpoint{'monitor': None, 'mode': 'min', 'every_n_train_steps': 0, 'every_n_epochs': 1, 'train_time_interval': None}.on_before_optimizer_step \t|  0.0            \t|  100            \t|  0.0            \t|  0.0            \t|\r\n",
      "|  [LightningModule]LitAutoEncoder.on_before_optimizer_step                                                                                                       \t|  0.0            \t|  100            \t|  0.0            \t|  0.0            \t|\r\n",
      "|  [Callback]ModelSummary.on_train_batch_end                                                                                                                      \t|  0.0            \t|  100            \t|  0.0            \t|  0.0            \t|\r\n",
      "|  [LightningModule]LitAutoEncoder.on_train_batch_end                                                                                                             \t|  0.0            \t|  100            \t|  0.0            \t|  0.0            \t|\r\n",
      "|  [Callback]ModelSummary.on_train_epoch_end                                                                                                                      \t|  0.0            \t|  1              \t|  0.0            \t|  0.0            \t|\r\n",
      "|  [LightningModule]LitAutoEncoder.on_train_epoch_end                                                                                                             \t|  0.0            \t|  1              \t|  0.0            \t|  0.0            \t|\r\n",
      "|  [Callback]TQDMProgressBar.on_save_checkpoint                                                                                                                   \t|  0.0            \t|  1              \t|  0.0            \t|  0.0            \t|\r\n",
      "|  [Callback]ModelSummary.on_save_checkpoint                                                                                                                      \t|  0.0            \t|  1              \t|  0.0            \t|  0.0            \t|\r\n",
      "|  [Callback]ModelCheckpoint{'monitor': None, 'mode': 'min', 'every_n_train_steps': 0, 'every_n_epochs': 1, 'train_time_interval': None}.on_save_checkpoint       \t|  0.0            \t|  1              \t|  0.0            \t|  0.0            \t|\r\n",
      "|  [LightningModule]LitAutoEncoder.on_save_checkpoint                                                                                                             \t|  0.0            \t|  1              \t|  0.0            \t|  0.0            \t|\r\n",
      "|  [Callback]TQDMProgressBar.on_train_end                                                                                                                         \t|  0.0            \t|  1              \t|  0.0            \t|  0.0            \t|\r\n",
      "|  [Callback]ModelSummary.on_train_end                                                                                                                            \t|  0.0            \t|  1              \t|  0.0            \t|  0.0            \t|\r\n",
      "|  [Callback]ModelCheckpoint{'monitor': None, 'mode': 'min', 'every_n_train_steps': 0, 'every_n_epochs': 1, 'train_time_interval': None}.on_train_end             \t|  0.0            \t|  1              \t|  0.0            \t|  0.0            \t|\r\n",
      "|  [LightningModule]LitAutoEncoder.on_train_end                                                                                                                   \t|  0.0            \t|  1              \t|  0.0            \t|  0.0            \t|\r\n",
      "|  [Strategy]SingleDeviceStrategy.on_train_end                                                                                                                    \t|  0.0            \t|  1              \t|  0.0            \t|  0.0            \t|\r\n",
      "|  [Callback]TQDMProgressBar.on_fit_end                                                                                                                           \t|  0.0            \t|  2              \t|  0.0            \t|  0.0            \t|\r\n",
      "|  [Callback]ModelSummary.on_fit_end                                                                                                                              \t|  0.0            \t|  2              \t|  0.0            \t|  0.0            \t|\r\n",
      "|  [Callback]ModelCheckpoint{'monitor': None, 'mode': 'min', 'every_n_train_steps': 0, 'every_n_epochs': 1, 'train_time_interval': None}.on_fit_end               \t|  0.0            \t|  2              \t|  0.0            \t|  0.0            \t|\r\n",
      "|  [LightningModule]LitAutoEncoder.on_fit_end                                                                                                                     \t|  0.0            \t|  2              \t|  0.0            \t|  0.0            \t|\r\n",
      "|  [Callback]TQDMProgressBar.teardown                                                                                                                             \t|  0.0            \t|  3              \t|  0.0            \t|  0.0            \t|\r\n",
      "|  [Callback]ModelSummary.teardown                                                                                                                                \t|  0.0            \t|  3              \t|  0.0            \t|  0.0            \t|\r\n",
      "|  [Callback]ModelCheckpoint{'monitor': None, 'mode': 'min', 'every_n_train_steps': 0, 'every_n_epochs': 1, 'train_time_interval': None}.teardown                 \t|  0.0            \t|  3              \t|  0.0            \t|  0.0            \t|\r\n",
      "|  [LightningModule]LitAutoEncoder.teardown                                                                                                                       \t|  0.0            \t|  3              \t|  0.0            \t|  0.0            \t|\r\n",
      "|  [Callback]ModelSummary.on_sanity_check_start                                                                                                                   \t|  0.0            \t|  1              \t|  0.0            \t|  0.0            \t|\r\n",
      "|  [Callback]ModelCheckpoint{'monitor': None, 'mode': 'min', 'every_n_train_steps': 0, 'every_n_epochs': 1, 'train_time_interval': None}.on_sanity_check_start    \t|  0.0            \t|  1              \t|  0.0            \t|  0.0            \t|\r\n",
      "|  [LightningModule]LitAutoEncoder.on_validation_model_eval                                                                                                       \t|  0.0            \t|  1              \t|  0.0            \t|  0.0            \t|\r\n",
      "|  [Callback]TQDMProgressBar.on_validation_start                                                                                                                  \t|  0.0            \t|  1              \t|  0.0            \t|  0.0            \t|\r\n",
      "|  [Callback]ModelSummary.on_validation_start                                                                                                                     \t|  0.0            \t|  1              \t|  0.0            \t|  0.0            \t|\r\n",
      "|  [Callback]ModelCheckpoint{'monitor': None, 'mode': 'min', 'every_n_train_steps': 0, 'every_n_epochs': 1, 'train_time_interval': None}.on_validation_start      \t|  0.0            \t|  1              \t|  0.0            \t|  0.0            \t|\r\n",
      "|  [LightningModule]LitAutoEncoder.on_validation_start                                                                                                            \t|  0.0            \t|  1              \t|  0.0            \t|  0.0            \t|\r\n",
      "|  [Strategy]SingleDeviceStrategy.on_validation_start                                                                                                             \t|  0.0            \t|  1              \t|  0.0            \t|  0.0            \t|\r\n",
      "|  [Callback]TQDMProgressBar.on_validation_epoch_start                                                                                                            \t|  0.0            \t|  1              \t|  0.0            \t|  0.0            \t|\r\n",
      "|  [Callback]ModelSummary.on_validation_epoch_start                                                                                                               \t|  0.0            \t|  1              \t|  0.0            \t|  0.0            \t|\r\n",
      "|  [Callback]ModelCheckpoint{'monitor': None, 'mode': 'min', 'every_n_train_steps': 0, 'every_n_epochs': 1, 'train_time_interval': None}.on_validation_epoch_start\t|  0.0            \t|  1              \t|  0.0            \t|  0.0            \t|\r\n",
      "|  [LightningModule]LitAutoEncoder.on_validation_epoch_start                                                                                                      \t|  0.0            \t|  1              \t|  0.0            \t|  0.0            \t|\r\n",
      "|  [Callback]TQDMProgressBar.on_validation_batch_start                                                                                                            \t|  0.0            \t|  2              \t|  0.0            \t|  0.0            \t|\r\n",
      "|  [Callback]ModelSummary.on_validation_batch_start                                                                                                               \t|  0.0            \t|  2              \t|  0.0            \t|  0.0            \t|\r\n",
      "|  [Callback]ModelCheckpoint{'monitor': None, 'mode': 'min', 'every_n_train_steps': 0, 'every_n_epochs': 1, 'train_time_interval': None}.on_validation_batch_start\t|  0.0            \t|  2              \t|  0.0            \t|  0.0            \t|\r\n",
      "|  [LightningModule]LitAutoEncoder.on_validation_batch_start                                                                                                      \t|  0.0            \t|  2              \t|  0.0            \t|  0.0            \t|\r\n",
      "|  [Callback]TQDMProgressBar.on_validation_batch_end                                                                                                              \t|  0.0            \t|  2              \t|  0.0            \t|  0.0            \t|\r\n",
      "|  [Callback]ModelSummary.on_validation_batch_end                                                                                                                 \t|  0.0            \t|  2              \t|  0.0            \t|  0.0            \t|\r\n",
      "|  [Callback]ModelCheckpoint{'monitor': None, 'mode': 'min', 'every_n_train_steps': 0, 'every_n_epochs': 1, 'train_time_interval': None}.on_validation_batch_end  \t|  0.0            \t|  2              \t|  0.0            \t|  0.0            \t|\r\n",
      "|  [LightningModule]LitAutoEncoder.on_validation_batch_end                                                                                                        \t|  0.0            \t|  2              \t|  0.0            \t|  0.0            \t|\r\n",
      "|  [Callback]TQDMProgressBar.on_validation_epoch_end                                                                                                              \t|  0.0            \t|  1              \t|  0.0            \t|  0.0            \t|\r\n",
      "|  [Callback]ModelSummary.on_validation_epoch_end                                                                                                                 \t|  0.0            \t|  1              \t|  0.0            \t|  0.0            \t|\r\n",
      "|  [Callback]ModelCheckpoint{'monitor': None, 'mode': 'min', 'every_n_train_steps': 0, 'every_n_epochs': 1, 'train_time_interval': None}.on_validation_epoch_end  \t|  0.0            \t|  1              \t|  0.0            \t|  0.0            \t|\r\n",
      "|  [LightningModule]LitAutoEncoder.on_validation_epoch_end                                                                                                        \t|  0.0            \t|  1              \t|  0.0            \t|  0.0            \t|\r\n",
      "|  [Callback]TQDMProgressBar.on_validation_end                                                                                                                    \t|  0.0            \t|  1              \t|  0.0            \t|  0.0            \t|\r\n",
      "|  [Callback]ModelSummary.on_validation_end                                                                                                                       \t|  0.0            \t|  1              \t|  0.0            \t|  0.0            \t|\r\n",
      "|  [Callback]ModelCheckpoint{'monitor': None, 'mode': 'min', 'every_n_train_steps': 0, 'every_n_epochs': 1, 'train_time_interval': None}.on_validation_end        \t|  0.0            \t|  1              \t|  0.0            \t|  0.0            \t|\r\n",
      "|  [LightningModule]LitAutoEncoder.on_validation_end                                                                                                              \t|  0.0            \t|  1              \t|  0.0            \t|  0.0            \t|\r\n",
      "|  [Strategy]SingleDeviceStrategy.on_validation_end                                                                                                               \t|  0.0            \t|  1              \t|  0.0            \t|  0.0            \t|\r\n",
      "|  [LightningModule]LitAutoEncoder.on_validation_model_train                                                                                                      \t|  0.0            \t|  1              \t|  0.0            \t|  0.0            \t|\r\n",
      "|  [Callback]TQDMProgressBar.on_sanity_check_end                                                                                                                  \t|  0.0            \t|  1              \t|  0.0            \t|  0.0            \t|\r\n",
      "|  [Callback]ModelSummary.on_sanity_check_end                                                                                                                     \t|  0.0            \t|  1              \t|  0.0            \t|  0.0            \t|\r\n",
      "|  [Callback]ModelCheckpoint{'monitor': None, 'mode': 'min', 'every_n_train_steps': 0, 'every_n_epochs': 1, 'train_time_interval': None}.on_sanity_check_end      \t|  0.0            \t|  1              \t|  0.0            \t|  0.0            \t|\r\n",
      "|  [LightningModule]LitAutoEncoder.on_test_model_eval                                                                                                             \t|  0.0            \t|  1              \t|  0.0            \t|  0.0            \t|\r\n",
      "|  [Callback]ModelSummary.on_test_start                                                                                                                           \t|  0.0            \t|  1              \t|  0.0            \t|  0.0            \t|\r\n",
      "|  [Callback]ModelCheckpoint{'monitor': None, 'mode': 'min', 'every_n_train_steps': 0, 'every_n_epochs': 1, 'train_time_interval': None}.on_test_start            \t|  0.0            \t|  1              \t|  0.0            \t|  0.0            \t|\r\n",
      "|  [LightningModule]LitAutoEncoder.on_test_start                                                                                                                  \t|  0.0            \t|  1              \t|  0.0            \t|  0.0            \t|\r\n",
      "|  [Strategy]SingleDeviceStrategy.on_test_start                                                                                                                   \t|  0.0            \t|  1              \t|  0.0            \t|  0.0            \t|\r\n",
      "|  [Callback]TQDMProgressBar.on_test_epoch_start                                                                                                                  \t|  0.0            \t|  1              \t|  0.0            \t|  0.0            \t|\r\n",
      "|  [Callback]ModelSummary.on_test_epoch_start                                                                                                                     \t|  0.0            \t|  1              \t|  0.0            \t|  0.0            \t|\r\n",
      "|  [Callback]ModelCheckpoint{'monitor': None, 'mode': 'min', 'every_n_train_steps': 0, 'every_n_epochs': 1, 'train_time_interval': None}.on_test_epoch_start      \t|  0.0            \t|  1              \t|  0.0            \t|  0.0            \t|\r\n",
      "|  [LightningModule]LitAutoEncoder.on_test_epoch_start                                                                                                            \t|  0.0            \t|  1              \t|  0.0            \t|  0.0            \t|\r\n",
      "|  [Callback]TQDMProgressBar.on_test_batch_start                                                                                                                  \t|  0.0            \t|  10             \t|  0.0            \t|  0.0            \t|\r\n",
      "|  [Callback]ModelSummary.on_test_batch_start                                                                                                                     \t|  0.0            \t|  10             \t|  0.0            \t|  0.0            \t|\r\n",
      "|  [Callback]ModelCheckpoint{'monitor': None, 'mode': 'min', 'every_n_train_steps': 0, 'every_n_epochs': 1, 'train_time_interval': None}.on_test_batch_start      \t|  0.0            \t|  10             \t|  0.0            \t|  0.0            \t|\r\n",
      "|  [LightningModule]LitAutoEncoder.on_test_batch_start                                                                                                            \t|  0.0            \t|  10             \t|  0.0            \t|  0.0            \t|\r\n",
      "|  [Callback]ModelSummary.on_test_batch_end                                                                                                                       \t|  0.0            \t|  10             \t|  0.0            \t|  0.0            \t|\r\n",
      "|  [Callback]ModelCheckpoint{'monitor': None, 'mode': 'min', 'every_n_train_steps': 0, 'every_n_epochs': 1, 'train_time_interval': None}.on_test_batch_end        \t|  0.0            \t|  10             \t|  0.0            \t|  0.0            \t|\r\n",
      "|  [LightningModule]LitAutoEncoder.on_test_batch_end                                                                                                              \t|  0.0            \t|  10             \t|  0.0            \t|  0.0            \t|\r\n",
      "|  [Callback]TQDMProgressBar.on_test_epoch_end                                                                                                                    \t|  0.0            \t|  1              \t|  0.0            \t|  0.0            \t|\r\n",
      "|  [Callback]ModelSummary.on_test_epoch_end                                                                                                                       \t|  0.0            \t|  1              \t|  0.0            \t|  0.0            \t|\r\n",
      "|  [Callback]ModelCheckpoint{'monitor': None, 'mode': 'min', 'every_n_train_steps': 0, 'every_n_epochs': 1, 'train_time_interval': None}.on_test_epoch_end        \t|  0.0            \t|  1              \t|  0.0            \t|  0.0            \t|\r\n",
      "|  [LightningModule]LitAutoEncoder.on_test_epoch_end                                                                                                              \t|  0.0            \t|  1              \t|  0.0            \t|  0.0            \t|\r\n",
      "|  [Callback]TQDMProgressBar.on_test_end                                                                                                                          \t|  0.0            \t|  1              \t|  0.0            \t|  0.0            \t|\r\n",
      "|  [Callback]ModelSummary.on_test_end                                                                                                                             \t|  0.0            \t|  1              \t|  0.0            \t|  0.0            \t|\r\n",
      "|  [Callback]ModelCheckpoint{'monitor': None, 'mode': 'min', 'every_n_train_steps': 0, 'every_n_epochs': 1, 'train_time_interval': None}.on_test_end              \t|  0.0            \t|  1              \t|  0.0            \t|  0.0            \t|\r\n",
      "|  [LightningModule]LitAutoEncoder.on_test_end                                                                                                                    \t|  0.0            \t|  1              \t|  0.0            \t|  0.0            \t|\r\n",
      "|  [Strategy]SingleDeviceStrategy.on_test_end                                                                                                                     \t|  0.0            \t|  1              \t|  0.0            \t|  0.0            \t|\r\n",
      "|  [LightningModule]LitAutoEncoder.on_test_model_train                                                                                                            \t|  0.0            \t|  1              \t|  0.0            \t|  0.0            \t|\r\n",
      "---------------------------------------------------------------------------------------------------------------------------------------------------------------------------------------------------------------------------------------------------------------------------\r\n",
      "\n"
     ]
    },
    {
     "data": {
      "text/plain": [
       "[{'test_loss': 0.06349547952413559}]"
      ]
     },
     "execution_count": 7,
     "metadata": {},
     "output_type": "execute_result"
    }
   ],
   "source": [
    "# test the model\n",
    "trainer.test(model=autoencoder, dataloaders=DataLoader(test_set))"
   ]
  },
  {
   "cell_type": "markdown",
   "id": "0cceeece",
   "metadata": {},
   "source": [
    "# Saving and loading checkpoints (basic)"
   ]
  },
  {
   "cell_type": "code",
   "execution_count": 8,
   "id": "25fa7626",
   "metadata": {},
   "outputs": [
    {
     "name": "stdout",
     "output_type": "stream",
     "text": [
      "checkpoint: dict_keys(['epoch', 'global_step', 'pytorch-lightning_version', 'state_dict', 'loops', 'callbacks', 'optimizer_states', 'lr_schedulers', 'hparams_name', 'hyper_parameters'])\n",
      "hyper_parameters: {'encoder': Encoder(\n",
      "  (l1): Sequential(\n",
      "    (0): Linear(in_features=784, out_features=64, bias=True)\n",
      "    (1): ReLU()\n",
      "    (2): Linear(in_features=64, out_features=3, bias=True)\n",
      "  )\n",
      "), 'decoder': Decoder(\n",
      "  (l1): Sequential(\n",
      "    (0): Linear(in_features=3, out_features=64, bias=True)\n",
      "    (1): ReLU()\n",
      "    (2): Linear(in_features=64, out_features=784, bias=True)\n",
      "  )\n",
      ")}\n"
     ]
    },
    {
     "name": "stderr",
     "output_type": "stream",
     "text": [
      "C:\\Users\\GyanT\\miniconda3\\envs\\py3_10\\lib\\site-packages\\lightning\\pytorch\\utilities\\parsing.py:196: UserWarning: Attribute 'encoder' is an instance of `nn.Module` and is already saved during checkpointing. It is recommended to ignore them using `self.save_hyperparameters(ignore=['encoder'])`.\n",
      "  rank_zero_warn(\n",
      "C:\\Users\\GyanT\\miniconda3\\envs\\py3_10\\lib\\site-packages\\lightning\\pytorch\\utilities\\parsing.py:196: UserWarning: Attribute 'decoder' is an instance of `nn.Module` and is already saved during checkpointing. It is recommended to ignore them using `self.save_hyperparameters(ignore=['decoder'])`.\n",
      "  rank_zero_warn(\n"
     ]
    }
   ],
   "source": [
    "# load checkpoint\n",
    "checkpoint = \"./lightning_logs/version_0/checkpoints/epoch=0-step=100.ckpt\"\n",
    "model = LitAutoEncoder.load_from_checkpoint(checkpoint, encoder=Encoder(), decoder=Decoder())\n",
    "# print('learning_rate: ', model.learning_rate)\n",
    "\n",
    "checkpoint_ = torch.load(checkpoint, map_location=lambda storage, loc: storage)\n",
    "print('checkpoint:', checkpoint_.keys())\n",
    "print('hyper_parameters:', checkpoint_[\"hyper_parameters\"])\n"
   ]
  },
  {
   "cell_type": "code",
   "execution_count": 9,
   "id": "f0ada369",
   "metadata": {},
   "outputs": [
    {
     "name": "stderr",
     "output_type": "stream",
     "text": [
      "GPU available: True (cuda), used: True\n",
      "TPU available: False, using: 0 TPU cores\n",
      "IPU available: False, using: 0 IPUs\n",
      "HPU available: False, using: 0 HPUs\n",
      "Restoring states from the checkpoint path at ./lightning_logs/version_0/checkpoints/epoch=0-step=100.ckpt\n",
      "C:\\Users\\GyanT\\miniconda3\\envs\\py3_10\\lib\\site-packages\\lightning\\pytorch\\trainer\\call.py:243: UserWarning: Be aware that when using `ckpt_path`, callbacks used to create the checkpoint need to be provided during `Trainer` instantiation. Please add the following callbacks: [\"ModelCheckpoint{'monitor': None, 'mode': 'min', 'every_n_train_steps': 0, 'every_n_epochs': 1, 'train_time_interval': None}\"].\n",
      "  rank_zero_warn(\n",
      "LOCAL_RANK: 0 - CUDA_VISIBLE_DEVICES: [0]\n",
      "\n",
      "  | Name    | Type    | Params\n",
      "------------------------------------\n",
      "0 | encoder | Encoder | 50.4 K\n",
      "1 | decoder | Decoder | 51.2 K\n",
      "------------------------------------\n",
      "101 K     Trainable params\n",
      "0         Non-trainable params\n",
      "101 K     Total params\n",
      "0.407     Total estimated model params size (MB)\n",
      "Restored all states from the checkpoint at ./lightning_logs/version_0/checkpoints/epoch=0-step=100.ckpt\n",
      "`Trainer.fit` stopped: `max_epochs=1` reached.\n"
     ]
    }
   ],
   "source": [
    "trainer = pl.Trainer(limit_train_batches=100, limit_test_batches=10, limit_val_batches=10, \n",
    "                     max_epochs=1, enable_checkpointing=False)\n",
    "\n",
    "# automatically restores model, epoch, step, LR schedulers, etc...\n",
    "trainer.fit(model=model, train_dataloaders=train_loader, ckpt_path=checkpoint)\n"
   ]
  },
  {
   "cell_type": "markdown",
   "id": "477b6848",
   "metadata": {},
   "source": [
    "# Early Stopping"
   ]
  },
  {
   "cell_type": "code",
   "execution_count": 10,
   "id": "e891c266",
   "metadata": {
    "scrolled": false
   },
   "outputs": [
    {
     "name": "stderr",
     "output_type": "stream",
     "text": [
      "GPU available: True (cuda), used: True\n",
      "TPU available: False, using: 0 TPU cores\n",
      "IPU available: False, using: 0 IPUs\n",
      "HPU available: False, using: 0 HPUs\n",
      "LOCAL_RANK: 0 - CUDA_VISIBLE_DEVICES: [0]\n",
      "\n",
      "  | Name    | Type    | Params\n",
      "------------------------------------\n",
      "0 | encoder | Encoder | 50.4 K\n",
      "1 | decoder | Decoder | 51.2 K\n",
      "------------------------------------\n",
      "101 K     Trainable params\n",
      "0         Non-trainable params\n",
      "101 K     Total params\n",
      "0.407     Total estimated model params size (MB)\n"
     ]
    },
    {
     "data": {
      "application/vnd.jupyter.widget-view+json": {
       "model_id": "",
       "version_major": 2,
       "version_minor": 0
      },
      "text/plain": [
       "Sanity Checking: 0it [00:00, ?it/s]"
      ]
     },
     "metadata": {},
     "output_type": "display_data"
    },
    {
     "data": {
      "application/vnd.jupyter.widget-view+json": {
       "model_id": "aff4fa23269a4c8e9d993b703f0ebc27",
       "version_major": 2,
       "version_minor": 0
      },
      "text/plain": [
       "Training: 0it [00:00, ?it/s]"
      ]
     },
     "metadata": {},
     "output_type": "display_data"
    },
    {
     "data": {
      "application/vnd.jupyter.widget-view+json": {
       "model_id": "",
       "version_major": 2,
       "version_minor": 0
      },
      "text/plain": [
       "Validation: 0it [00:00, ?it/s]"
      ]
     },
     "metadata": {},
     "output_type": "display_data"
    },
    {
     "name": "stderr",
     "output_type": "stream",
     "text": [
      "`Trainer.fit` stopped: `max_epochs=1` reached.\n"
     ]
    }
   ],
   "source": [
    "early_stop_callback = EarlyStopping(monitor=\"val_loss\", mode=\"min\", patience=1)\n",
    "# early_stop_callback = EarlyStopping(monitor=\"val_accuracy\", min_delta=0.00, patience=3, verbose=False, mode=\"max\")\n",
    "\n",
    "trainer = pl.Trainer(limit_train_batches=100, limit_test_batches=10, limit_val_batches=10,\n",
    "                     max_epochs=1, enable_checkpointing=False, callbacks=[early_stop_callback])\n",
    "\n",
    "# train with both splits\n",
    "trainer.fit(model, train_loader, valid_loader)\n"
   ]
  },
  {
   "cell_type": "markdown",
   "id": "4778afed",
   "metadata": {},
   "source": [
    "# Deploy models into production (basic)"
   ]
  },
  {
   "cell_type": "code",
   "execution_count": 11,
   "id": "98fd0f4a",
   "metadata": {},
   "outputs": [
    {
     "name": "stdout",
     "output_type": "stream",
     "text": [
      "y_hat:  torch.Size([1, 784])\n"
     ]
    }
   ],
   "source": [
    "# disable randomness, dropout, etc...\n",
    "model.eval()\n",
    "x = torch.randn(1, 28, 28)\n",
    "\n",
    "# predict with the model\n",
    "with torch.no_grad():\n",
    "    y_hat = model(x)\n",
    "\n",
    "print('y_hat: ', y_hat.shape)"
   ]
  },
  {
   "cell_type": "code",
   "execution_count": 12,
   "id": "db898182",
   "metadata": {},
   "outputs": [
    {
     "name": "stderr",
     "output_type": "stream",
     "text": [
      "LOCAL_RANK: 0 - CUDA_VISIBLE_DEVICES: [0]\n",
      "C:\\Users\\GyanT\\miniconda3\\envs\\py3_10\\lib\\site-packages\\lightning\\pytorch\\trainer\\connectors\\data_connector.py:432: PossibleUserWarning: The dataloader, predict_dataloader, does not have many workers which may be a bottleneck. Consider increasing the value of the `num_workers` argument` (try 8 which is the number of cpus on this machine) in the `DataLoader` init to improve performance.\n",
      "  rank_zero_warn(\n"
     ]
    },
    {
     "data": {
      "application/vnd.jupyter.widget-view+json": {
       "model_id": "0e8cea080dae4dda890c6607b6736fdc",
       "version_major": 2,
       "version_minor": 0
      },
      "text/plain": [
       "Predicting: 0it [00:00, ?it/s]"
      ]
     },
     "metadata": {},
     "output_type": "display_data"
    }
   ],
   "source": [
    "predictions = trainer.predict(model, valid_loader)\n",
    "print('predictions: ', predictions.shape)"
   ]
  },
  {
   "cell_type": "code",
   "execution_count": null,
   "id": "ae04a0f5",
   "metadata": {},
   "outputs": [],
   "source": []
  }
 ],
 "metadata": {
  "kernelspec": {
   "display_name": "Python 3 (ipykernel)",
   "language": "python",
   "name": "python3"
  },
  "language_info": {
   "codemirror_mode": {
    "name": "ipython",
    "version": 3
   },
   "file_extension": ".py",
   "mimetype": "text/x-python",
   "name": "python",
   "nbconvert_exporter": "python",
   "pygments_lexer": "ipython3",
   "version": "3.10.9"
  }
 },
 "nbformat": 4,
 "nbformat_minor": 5
}
